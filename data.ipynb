{
 "cells": [
  {
   "cell_type": "code",
   "execution_count": 2,
   "id": "7aae91e2",
   "metadata": {},
   "outputs": [
    {
     "name": "stdout",
     "output_type": "stream",
     "text": [
      "Duplicate found: data/Abra/0bbfc78c8523ea3a493d1d9157be6da1.jpg\n"
     ]
    },
    {
     "data": {
      "text/plain": [
       "True"
      ]
     },
     "execution_count": 2,
     "metadata": {},
     "output_type": "execute_result"
    }
   ],
   "source": [
    "import os\n",
    "from PIL import Image\n",
    "import imagehash\n",
    "from torchvision.datasets import ImageFolder\n",
    "\n",
    "def get_all_image_paths(dataset_root):\n",
    "    # ImageFolder requires transform even if not used\n",
    "    dataset = ImageFolder(root=dataset_root)\n",
    "    return [path for path, _ in dataset.samples]\n",
    "\n",
    "def compute_hash(image_path):\n",
    "    image = Image.open(image_path).convert(\"RGB\")\n",
    "    return imagehash.average_hash(image)  # or use phash/dhash/whash\n",
    "\n",
    "def image_exists_in_dataset(query_image_path, dataset_root):\n",
    "    query_hash = compute_hash(query_image_path)\n",
    "    all_paths = get_all_image_paths(dataset_root)\n",
    "\n",
    "    for path in all_paths:\n",
    "        if query_hash == compute_hash(path):\n",
    "            print(f\"Duplicate found: {path}\")\n",
    "            return True\n",
    "    print(\"No duplicate found in dataset.\")\n",
    "    return False\n",
    "\n",
    "# Example usage\n",
    "query_image = \"1.jpg\"\n",
    "dataset_dir = \"data/\"\n",
    "image_exists_in_dataset(query_image, dataset_dir)\n"
   ]
  },
  {
   "cell_type": "code",
   "execution_count": 1,
   "id": "76cb1dd4",
   "metadata": {},
   "outputs": [],
   "source": [
    "import os\n",
    "import pickle\n",
    "from PIL import Image\n",
    "import imagehash\n",
    "from torchvision.datasets import ImageFolder\n",
    "\n",
    "HASH_FILE = \"image_hashes.pkl\"\n",
    "\n",
    "def get_all_image_paths(dataset_root):\n",
    "    dataset = ImageFolder(root=dataset_root)\n",
    "    return [path for path, _ in dataset.samples]\n",
    "\n",
    "def compute_hash(image_path):\n",
    "    image = Image.open(image_path).convert(\"RGB\")\n",
    "    return str(imagehash.average_hash(image))\n",
    "\n",
    "def save_dataset_hashes(dataset_root, hash_file=HASH_FILE):\n",
    "    print(\"Computing and caching image hashes...\")\n",
    "    image_paths = get_all_image_paths(dataset_root)\n",
    "    hashes = {path: compute_hash(path) for path in image_paths}\n",
    "    with open(hash_file, \"wb\") as f:\n",
    "        pickle.dump(hashes, f)\n",
    "    print(f\"Hashes saved to {hash_file}\")\n",
    "\n",
    "def load_hashes(hash_file=HASH_FILE):\n",
    "    with open(hash_file, \"rb\") as f:\n",
    "        return pickle.load(f)\n",
    "\n",
    "def image_exists_in_dataset(query_image_path, dataset_root, hash_file=HASH_FILE):\n",
    "    if not os.path.exists(hash_file):\n",
    "        save_dataset_hashes(dataset_root, hash_file)\n",
    "\n",
    "    dataset_hashes = load_hashes(hash_file)\n",
    "    query_hash = compute_hash(query_image_path)\n",
    "\n",
    "    for path, h in dataset_hashes.items():\n",
    "        if h == query_hash:\n",
    "            print(f\"Duplicate found: {path}\")\n",
    "            return True\n",
    "\n",
    "    print(\"No duplicate found in dataset.\")\n",
    "    return False\n",
    "\n",
    "# Example usage\n",
    "\n"
   ]
  },
  {
   "cell_type": "code",
   "execution_count": 2,
   "id": "81aeadb1",
   "metadata": {},
   "outputs": [
    {
     "name": "stdout",
     "output_type": "stream",
     "text": [
      "Duplicate found: data/Abra/0bbfc78c8523ea3a493d1d9157be6da1.jpg\n"
     ]
    },
    {
     "data": {
      "text/plain": [
       "True"
      ]
     },
     "execution_count": 2,
     "metadata": {},
     "output_type": "execute_result"
    }
   ],
   "source": [
    "query_image = \"1.jpg\"\n",
    "dataset_dir = \"data/\"\n",
    "image_exists_in_dataset(query_image, dataset_dir)"
   ]
  },
  {
   "cell_type": "code",
   "execution_count": 3,
   "id": "d814a958",
   "metadata": {},
   "outputs": [
    {
     "name": "stdout",
     "output_type": "stream",
     "text": [
      "No duplicate found in dataset.\n"
     ]
    },
    {
     "data": {
      "text/plain": [
       "False"
      ]
     },
     "execution_count": 3,
     "metadata": {},
     "output_type": "execute_result"
    }
   ],
   "source": [
    "query_image = \"Untitled.jpeg\"\n",
    "dataset_dir = \"data/\"\n",
    "image_exists_in_dataset(query_image, dataset_dir)"
   ]
  }
 ],
 "metadata": {
  "kernelspec": {
   "display_name": "Jotun",
   "language": "python",
   "name": "python3"
  },
  "language_info": {
   "codemirror_mode": {
    "name": "ipython",
    "version": 3
   },
   "file_extension": ".py",
   "mimetype": "text/x-python",
   "name": "python",
   "nbconvert_exporter": "python",
   "pygments_lexer": "ipython3",
   "version": "3.12.2"
  }
 },
 "nbformat": 4,
 "nbformat_minor": 5
}
