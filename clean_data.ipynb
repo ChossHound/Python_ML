{
 "cells": [
  {
   "cell_type": "code",
   "execution_count": 4,
   "metadata": {},
   "outputs": [
    {
     "name": "stdout",
     "output_type": "stream",
     "text": [
      "Corrupt: data/Exeggutor/c1f3f2cb1463bbfa905ccaff484cd668.png\n"
     ]
    }
   ],
   "source": [
    "from PIL import Image\n",
    "import os\n",
    "\n",
    "def is_image_valid(filepath):\n",
    "    try:\n",
    "        with Image.open(filepath) as img:\n",
    "            img.verify()  # Check for corruption\n",
    "        return True\n",
    "    except Exception:\n",
    "        return False\n",
    "\n",
    "root_dir = \"data\"  # Or wherever your images are stored\n",
    "\n",
    "for root, dirs, files in os.walk(root_dir):\n",
    "    for file in files:\n",
    "        if file.lower().endswith((\".png\", \".jpg\", \".jpeg\")):\n",
    "            path = os.path.join(root, file)\n",
    "            if not is_image_valid(path):\n",
    "                print(f\"Corrupt: {path}\")\n",
    "                os.remove(path)  # Uncomment to auto-delete\n"
   ]
  },
  {
   "cell_type": "markdown",
   "metadata": {},
   "source": [
    "Corrupt: data/Exeggutor/c1f3f2cb1463bbfa905ccaff484cd668.png"
   ]
  }
 ],
 "metadata": {
  "kernelspec": {
   "display_name": "Jotun",
   "language": "python",
   "name": "python3"
  },
  "language_info": {
   "codemirror_mode": {
    "name": "ipython",
    "version": 3
   },
   "file_extension": ".py",
   "mimetype": "text/x-python",
   "name": "python",
   "nbconvert_exporter": "python",
   "pygments_lexer": "ipython3",
   "version": "3.12.2"
  }
 },
 "nbformat": 4,
 "nbformat_minor": 2
}
