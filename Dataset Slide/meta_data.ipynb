{
 "cells": [
  {
   "cell_type": "code",
   "execution_count": 2,
   "metadata": {},
   "outputs": [],
   "source": [
    "import os\n",
    "import pandas as pd\n",
    "from PIL import Image\n",
    "\n",
    "# Define data directory path\n",
    "DATA_DIR = 'data'  # Adjust this path to match your dataset location\n"
   ]
  },
  {
   "cell_type": "code",
   "execution_count": 3,
   "metadata": {},
   "outputs": [
    {
     "name": "stdout",
     "output_type": "stream",
     "text": [
      "\n",
      "Image Dataset Metadata Summary:\n",
      "Total number of images: 35625\n",
      "\n",
      "Image sizes:\n",
      "size\n",
      "(250, 250)     770\n",
      "(1280, 720)    641\n",
      "(800, 800)     521\n",
      "(300, 300)     514\n",
      "(600, 600)     502\n",
      "              ... \n",
      "(780, 438)       1\n",
      "(906, 882)       1\n",
      "(700, 764)       1\n",
      "(650, 807)       1\n",
      "(698, 530)       1\n",
      "Name: count, Length: 11239, dtype: int64\n",
      "\n",
      "Image formats:\n",
      "format\n",
      "JPEG    29227\n",
      "PNG      6384\n",
      "BMP        10\n",
      "GIF         4\n",
      "Name: count, dtype: int64\n",
      "\n",
      "Image modes:\n",
      "mode\n",
      "RGB     31632\n",
      "RGBA     2512\n",
      "P        1067\n",
      "L         407\n",
      "1           3\n",
      "LA          3\n",
      "CMYK        1\n",
      "Name: count, dtype: int64\n",
      "\n",
      "Images per class:\n",
      "class\n",
      "Pikachu       510\n",
      "Charmander    485\n",
      "Mewtwo        470\n",
      "Psyduck       448\n",
      "Squirtle      440\n",
      "             ... \n",
      "Krabby        147\n",
      "Paras         138\n",
      "Kabuto        132\n",
      "Onix          123\n",
      "Persian       119\n",
      "Name: count, Length: 149, dtype: int64\n"
     ]
    }
   ],
   "source": [
    "# Get image metadata\n",
    "def get_image_metadata(image_path):\n",
    "    with Image.open(image_path) as img:\n",
    "        metadata = {\n",
    "            'size': img.size,\n",
    "            'mode': img.mode,\n",
    "            'format': img.format,\n",
    "            'info': img.info\n",
    "        }\n",
    "    return metadata\n",
    "\n",
    "# Get metadata for all images in dataset\n",
    "image_metadata = []\n",
    "for class_folder in os.listdir(DATA_DIR):\n",
    "    class_path = os.path.join(DATA_DIR, class_folder)\n",
    "    if os.path.isdir(class_path):\n",
    "        for image_name in os.listdir(class_path):\n",
    "            image_path = os.path.join(class_path, image_name)\n",
    "            try:\n",
    "                metadata = get_image_metadata(image_path)\n",
    "                metadata['class'] = class_folder\n",
    "                metadata['filename'] = image_name\n",
    "                image_metadata.append(metadata)\n",
    "            except Exception as e:\n",
    "                print(f\"Error processing {image_path}: {e}\")\n",
    "\n",
    "# Convert to DataFrame for analysis\n",
    "metadata_df = pd.DataFrame(image_metadata)\n",
    "\n",
    "# Print summary statistics\n",
    "print(\"\\nImage Dataset Metadata Summary:\")\n",
    "print(f\"Total number of images: {len(metadata_df)}\")\n",
    "print(\"\\nImage sizes:\")\n",
    "print(metadata_df['size'].value_counts())\n",
    "print(\"\\nImage formats:\")\n",
    "print(metadata_df['format'].value_counts())\n",
    "print(\"\\nImage modes:\")\n",
    "print(metadata_df['mode'].value_counts())\n",
    "print(\"\\nImages per class:\")\n",
    "print(metadata_df['class'].value_counts())\n",
    "\n",
    "# Save metadata to CSV\n",
    "metadata_df.to_csv('image_metadata.csv', index=False)\n"
   ]
  },
  {
   "cell_type": "code",
   "execution_count": 4,
   "metadata": {},
   "outputs": [
    {
     "data": {
      "text/plain": [
       "Index(['size', 'mode', 'format', 'info', 'class', 'filename'], dtype='object')"
      ]
     },
     "execution_count": 4,
     "metadata": {},
     "output_type": "execute_result"
    }
   ],
   "source": [
    "metadata_df.columns"
   ]
  }
 ],
 "metadata": {
  "kernelspec": {
   "display_name": "Jotun",
   "language": "python",
   "name": "python3"
  },
  "language_info": {
   "codemirror_mode": {
    "name": "ipython",
    "version": 3
   },
   "file_extension": ".py",
   "mimetype": "text/x-python",
   "name": "python",
   "nbconvert_exporter": "python",
   "pygments_lexer": "ipython3",
   "version": "3.12.2"
  }
 },
 "nbformat": 4,
 "nbformat_minor": 2
}
